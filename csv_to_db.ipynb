{
 "cells": [
  {
   "cell_type": "code",
   "execution_count": 13,
   "metadata": {},
   "outputs": [],
   "source": [
    "# !pip install pandas pyodbc\n"
   ]
  },
  {
   "cell_type": "code",
   "execution_count": 14,
   "metadata": {},
   "outputs": [
    {
     "name": "stdout",
     "output_type": "stream",
     "text": [
      "Data has been inserted successfully.\n"
     ]
    }
   ],
   "source": [
    "import pandas as pd\n",
    "import pyodbc\n",
    "\n",
    "# Define the connection string to your SQL Server\n",
    "conn_str = (\n",
    "    \"DRIVER={ODBC Driver 17 for SQL Server};\"\n",
    "    \"SERVER=MY-PC\\\\SQLEXPRESS;\"  # Use the server name from the image\n",
    "    \"DATABASE=DB-Test;\"                 # Replace with your actual database name\n",
    "    \"Trusted_Connection=yes;\"            # This enables Windows Authentication\n",
    ")\n",
    "\n",
    "# Establish the connection\n",
    "conn = pyodbc.connect(conn_str)\n",
    "cursor = conn.cursor()\n",
    "\n",
    "# Load the CSV file into a pandas DataFrame\n",
    "csv_file_path = 'test2.csv'\n",
    "df = pd.read_csv(csv_file_path)\n",
    "\n",
    "# Define the name of the table where data will be inserted\n",
    "table_name = 'test_table'\n",
    "\n",
    "# Check if the table exists, and create it if it does not\n",
    "cursor.execute(f\"\"\"\n",
    "IF NOT EXISTS (SELECT * FROM INFORMATION_SCHEMA.TABLES WHERE TABLE_NAME = '{table_name}')\n",
    "BEGIN\n",
    "    CREATE TABLE {table_name} (\n",
    "        {', '.join([f'{col} NVARCHAR(MAX)' for col in df.columns])}  -- Define columns based on CSV headers\n",
    "    )\n",
    "END\n",
    "\"\"\")\n",
    "conn.commit()\n",
    "\n",
    "# Insert DataFrame to SQL Server\n",
    "for index, row in df.iterrows():\n",
    "    # Assuming your table has columns that match your CSV file columns\n",
    "    sql = f\"INSERT INTO {table_name} VALUES ({','.join(['?' for _ in row])})\"\n",
    "    cursor.execute(sql, tuple(row))\n",
    "\n",
    "# Commit the transaction\n",
    "conn.commit()\n",
    "\n",
    "# Close the connection\n",
    "cursor.close()\n",
    "conn.close()\n",
    "\n",
    "print(\"Data has been inserted successfully.\")\n"
   ]
  },
  {
   "cell_type": "code",
   "execution_count": null,
   "metadata": {},
   "outputs": [],
   "source": []
  }
 ],
 "metadata": {
  "kernelspec": {
   "display_name": "Python 3",
   "language": "python",
   "name": "python3"
  },
  "language_info": {
   "codemirror_mode": {
    "name": "ipython",
    "version": 3
   },
   "file_extension": ".py",
   "mimetype": "text/x-python",
   "name": "python",
   "nbconvert_exporter": "python",
   "pygments_lexer": "ipython3",
   "version": "3.12.5"
  }
 },
 "nbformat": 4,
 "nbformat_minor": 2
}
